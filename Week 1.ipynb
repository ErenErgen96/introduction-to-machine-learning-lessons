{
 "cells": [
  {
   "cell_type": "code",
   "execution_count": 3,
   "id": "c18498de",
   "metadata": {},
   "outputs": [],
   "source": [
    "#numpy ve pandas kütüphanelerini eklemek için import etme kodları\n",
    "import pandas as pd\n",
    "import numpy as np"
   ]
  },
  {
   "cell_type": "code",
   "execution_count": 10,
   "id": "d1764a5e",
   "metadata": {},
   "outputs": [
    {
     "data": {
      "text/plain": [
       "int"
      ]
     },
     "execution_count": 10,
     "metadata": {},
     "output_type": "execute_result"
    }
   ],
   "source": [
    "#variable'ların tanımlanması\n",
    "\n",
    "var_int = 100 #integer\n",
    "var_int2 = 200 #integer\n",
    "\n",
    "month_string=\"march\" #string\n",
    "\n",
    "var_float=10.0 #double(float)\n",
    "type(var_int) #var'ın tipinin otomatik olarak atıldığını gösteren kod"
   ]
  },
  {
   "cell_type": "code",
   "execution_count": 38,
   "id": "7528f3ff",
   "metadata": {},
   "outputs": [
    {
     "data": {
      "text/plain": [
       "[1, 2, 3, 4, 5, 6, 7, 8]"
      ]
     },
     "execution_count": 38,
     "metadata": {},
     "output_type": "execute_result"
    }
   ],
   "source": [
    "#list'lerin tanımlanması\n",
    "\n",
    "\n",
    "list_int=[1,2,3,4,5,6,7,8] # int değerli liste\n",
    "\n",
    "type(list_int) #list'in tipi\n",
    "list_str=[\"january\", \"february\", \"march\"] # string değerli liste\n",
    "type(list_str) #list'in tipi \n",
    "list_int[0] #0.indeks listenin ilk değerini gösterirken -1'. indeks son değerini gösterir\n",
    "list_int[-1]\n",
    "list_divide= list_int[0:2] #listenin ilk 0.indeksinden 2.indeksine kadar olan elemanları yazdırır\n",
    "dir(list_int) # liste için kullanılabilen metodlar\n",
    "list_int.append(9) #9'u listenin sonuna ekler.\n",
    "\n",
    "list_int.remove(9) #9 listeden çıkartılır.\n",
    "\n",
    "list_int.reverse() #listeyi ters çevirir\n",
    "list_int\n",
    "list_int.sort() #listeyi sıralar\n",
    "list_int"
   ]
  },
  {
   "cell_type": "code",
   "execution_count": 54,
   "id": "819ce6c6",
   "metadata": {},
   "outputs": [
    {
     "name": "stdout",
     "output_type": "stream",
     "text": [
      "1\n",
      "2\n",
      "3\n",
      "4\n",
      "5\n",
      "6\n",
      "7\n",
      "8\n",
      "9\n",
      "\n",
      "a\n",
      "n\n",
      "t\n",
      "a\n",
      "l\n",
      "y\n",
      "a\n"
     ]
    }
   ],
   "source": [
    "\n",
    "for i in range (1,10): # for döngüsü\n",
    "    print(i)\n",
    "    \n",
    "print(\"\")\n",
    "\n",
    "for i in \"antalya\":\n",
    "    \n",
    "    print(i)"
   ]
  },
  {
   "cell_type": "code",
   "execution_count": 64,
   "id": "723c4831",
   "metadata": {},
   "outputs": [
    {
     "data": {
      "text/plain": [
       "-500"
      ]
     },
     "execution_count": 64,
     "metadata": {},
     "output_type": "execute_result"
    }
   ],
   "source": [
    "#for döngüsü\n",
    "\n",
    "liste= [12,13,53,123,543,122,654,56]\n",
    "\n",
    "sum(liste) #listedeki elemanları toplama metodu\n",
    "    \n",
    "liste2=[1,2,3,4,5,6,-500,23,451,67,21,23]  \n",
    "        \n",
    "min(liste2)  #en küçük eleman bulma metodu\n",
    "\n",
    "minimum=100000\n",
    "             \n",
    "for i in liste2: # for döngüsüyle en küçük eleman bulma kodu\n",
    "    \n",
    "    if(i<minimum):\n",
    "        \n",
    "        minimum=i\n",
    "        \n",
    "    else:\n",
    "        \n",
    "        continue\n",
    "        \n",
    "minimum  \n"
   ]
  },
  {
   "cell_type": "code",
   "execution_count": 66,
   "id": "b131fd5e",
   "metadata": {},
   "outputs": [
    {
     "name": "stdout",
     "output_type": "stream",
     "text": [
      "var1<var2\n",
      "value değeri 10 listenin içinde değildir.\n"
     ]
    }
   ],
   "source": [
    "#conditionals\n",
    "#if else statement\n",
    "\n",
    "True == True #True\n",
    "\n",
    "True == False #False\n",
    "\n",
    "var1=100\n",
    "var2=200\n",
    "\n",
    "if (var1 == var2):\n",
    "    \n",
    "    print(\"var1=var2\")\n",
    "    \n",
    "elif (var1 > var2):\n",
    "    print(\"var1>var2\")\n",
    "    \n",
    "else :\n",
    "    \n",
    "    print(\"var1<var2\")\n",
    "    \n",
    "\n",
    "liste =[1,2,3,4,5]\n",
    "\n",
    "value = 10\n",
    "\n",
    "if value in liste:\n",
    "    \n",
    "    print(\"value değeri {} listenin içindedir.\".format(value))\n",
    "    \n",
    "else:\n",
    "    print(\"value değeri {} listenin içinde değildir.\".format(value))"
   ]
  },
  {
   "cell_type": "code",
   "execution_count": 80,
   "id": "4e0c325f",
   "metadata": {},
   "outputs": [
    {
     "name": "stdout",
     "output_type": "stream",
     "text": [
      "1\n",
      "3\n",
      "5\n",
      "7\n",
      "9\n"
     ]
    }
   ],
   "source": [
    "i=0\n",
    "\n",
    "while (i<10):\n",
    "    \n",
    "    i = i+1\n",
    "    if(i%2!=0):\n",
    "        print(i)\n",
    "#tek sayıları yazdırma\n"
   ]
  },
  {
   "cell_type": "code",
   "execution_count": 88,
   "id": "cb18041b",
   "metadata": {},
   "outputs": [
    {
     "data": {
      "text/plain": [
       "314.0"
      ]
     },
     "execution_count": 88,
     "metadata": {},
     "output_type": "execute_result"
    }
   ],
   "source": [
    "#default and flexible functions\n",
    "\n",
    "# default function: çember alanı= pi*r^2\n",
    "\n",
    "def cember_alan(r,pi=3.14): #burada pi sayısının değeri değişmeyeceği için default değer atandı.\n",
    "    \n",
    "   # cember_alan\n",
    "    \n",
    "   # parametreler:r,pi\n",
    "    \n",
    "   # output:çemberin alanı\n",
    " \n",
    "    \n",
    "    output = pi*r*r\n",
    "    \n",
    "    return output\n",
    "\n",
    "cember_alan(10) #pi sayısı default olarak tanımlandığından fonksiyonda yeni değer yazılmaz.\n",
    "#yarıçapı 10 olan bir çemberin alanı 314 çıkmaktadır."
   ]
  },
  {
   "cell_type": "code",
   "execution_count": 94,
   "id": "5fff3b20",
   "metadata": {},
   "outputs": [
    {
     "name": "stdout",
     "output_type": "stream",
     "text": [
      "28.26\n"
     ]
    },
    {
     "data": {
      "text/plain": [
       "20"
      ]
     },
     "execution_count": 94,
     "metadata": {},
     "output_type": "execute_result"
    }
   ],
   "source": [
    "#lambda function\n",
    "\n",
    "def do_it(x):\n",
    "    pi = 3.14\n",
    "    output= x*pi*x\n",
    "    \n",
    "    return output\n",
    "\n",
    "sonuc = do_it(3)\n",
    "pi = 3.14\n",
    "sonuc2 = lambda x: x*x*pi\n",
    "\n",
    "print(sonuc2(3)) \n",
    "\n",
    "#iki fonksiyonda da çemberin alanı bulunur.\n",
    "\n",
    "y = 4\n",
    "\n",
    "z = lambda x:x*y\n",
    "\n",
    "z(5) #20 "
   ]
  },
  {
   "cell_type": "code",
   "execution_count": 102,
   "id": "825769e4",
   "metadata": {},
   "outputs": [
    {
     "data": {
      "text/plain": [
       "33"
      ]
     },
     "execution_count": 102,
     "metadata": {},
     "output_type": "execute_result"
    }
   ],
   "source": [
    "#dictionary\n",
    "\n",
    "\n",
    "dictionary = {\"eren\":26, \"tuğçe\":25, \"damien\":33}\n",
    "#küçük bir database oluşturuldu.\n",
    "\n",
    "type(dictionary) \n",
    "\n",
    "dictionary[\"eren\"] #Eren'in yaşını verir(22).\n",
    "\n",
    "type(dictionary[\"damien\"]) #dictionary'deki Damien'in yaşının type'ı integerdır.\n",
    "\n",
    "#eren, tuğçe, damien = keys\n",
    "#25,25,33 = values\n",
    "\n",
    "dictionary.keys() #dictionary'de tanımlı keyler verilir\n",
    "#dict_keys(['eren', 'tuğçe', 'damien'])\n",
    "\n",
    "dictionary.values() #dictionary'de tanımlı valuelar verilir.\n",
    "#dict_values([26, 25, 33])\n",
    "\n",
    "def deneme():\n",
    "    \n",
    "    dictionary = {\"eren\":26, \"tuğçe\":25, \"damien\":33}\n",
    "    \n",
    "    return dictionary\n",
    "\n",
    "dic = deneme() #dic adında bir dictionary fonksiyon içerisinde oluşturuldu.\n",
    "\n",
    "dic[\"damien\"] #damien adlı key'in value'sunu verir(33)."
   ]
  },
  {
   "cell_type": "code",
   "execution_count": null,
   "id": "a0c8b603",
   "metadata": {},
   "outputs": [],
   "source": []
  }
 ],
 "metadata": {
  "kernelspec": {
   "display_name": "Python 3 (ipykernel)",
   "language": "python",
   "name": "python3"
  },
  "language_info": {
   "codemirror_mode": {
    "name": "ipython",
    "version": 3
   },
   "file_extension": ".py",
   "mimetype": "text/x-python",
   "name": "python",
   "nbconvert_exporter": "python",
   "pygments_lexer": "ipython3",
   "version": "3.9.13"
  }
 },
 "nbformat": 4,
 "nbformat_minor": 5
}
