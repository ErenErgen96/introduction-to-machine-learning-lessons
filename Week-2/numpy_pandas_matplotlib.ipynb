{
 "cells": [
  {
   "cell_type": "markdown",
   "id": "75cd5b27",
   "metadata": {},
   "source": [
    "## numpy"
   ]
  },
  {
   "cell_type": "code",
   "execution_count": 1,
   "id": "3aa5309c",
   "metadata": {},
   "outputs": [],
   "source": [
    "import numpy as np"
   ]
  },
  {
   "cell_type": "code",
   "execution_count": 2,
   "id": "a2df1e56",
   "metadata": {},
   "outputs": [],
   "source": [
    "array = np.array([1,2,3,4,5,6,7,8,9]) #array oluşturma"
   ]
  },
  {
   "cell_type": "code",
   "execution_count": 3,
   "id": "0ec43ad3",
   "metadata": {},
   "outputs": [
    {
     "data": {
      "text/plain": [
       "array([1, 2, 3, 4, 5, 6, 7, 8, 9])"
      ]
     },
     "execution_count": 3,
     "metadata": {},
     "output_type": "execute_result"
    }
   ],
   "source": [
    "array"
   ]
  },
  {
   "cell_type": "code",
   "execution_count": 4,
   "id": "f7e90db7",
   "metadata": {},
   "outputs": [
    {
     "data": {
      "text/plain": [
       "(9,)"
      ]
     },
     "execution_count": 4,
     "metadata": {},
     "output_type": "execute_result"
    }
   ],
   "source": [
    "array.shape #9 satır 1, sütun"
   ]
  },
  {
   "cell_type": "code",
   "execution_count": 5,
   "id": "c61bd308",
   "metadata": {},
   "outputs": [],
   "source": [
    "array2 = array.reshape(3,3)"
   ]
  },
  {
   "cell_type": "code",
   "execution_count": 6,
   "id": "3da0c824",
   "metadata": {},
   "outputs": [
    {
     "data": {
      "text/plain": [
       "array([[1, 2, 3],\n",
       "       [4, 5, 6],\n",
       "       [7, 8, 9]])"
      ]
     },
     "execution_count": 6,
     "metadata": {},
     "output_type": "execute_result"
    }
   ],
   "source": [
    "array2"
   ]
  },
  {
   "cell_type": "code",
   "execution_count": 7,
   "id": "881dab1a",
   "metadata": {},
   "outputs": [
    {
     "data": {
      "text/plain": [
       "(3, 3)"
      ]
     },
     "execution_count": 7,
     "metadata": {},
     "output_type": "execute_result"
    }
   ],
   "source": [
    "array2.shape #3 satır 3 sütun"
   ]
  },
  {
   "cell_type": "code",
   "execution_count": 8,
   "id": "869e61ef",
   "metadata": {},
   "outputs": [
    {
     "name": "stdout",
     "output_type": "stream",
     "text": [
      "shape:  (3, 3)\n",
      "dimension:  2\n",
      "data type:  int32\n",
      "size:  9\n",
      "type <class 'numpy.ndarray'>\n"
     ]
    }
   ],
   "source": [
    "print(\"shape: \",array2.shape) #3 satır 5 sütun\n",
    "\n",
    "print(\"dimension: \",array2.ndim) #matris boyutu\n",
    "\n",
    "print(\"data type: \",array2.dtype.name) #dtype\n",
    "\n",
    "print(\"size: \",array2.size) #reshape'siz boyutu aka. var array\n",
    "                       \n",
    "print(\"type\",type(array2))  #type <class 'numpy.ndarray'>"
   ]
  },
  {
   "cell_type": "code",
   "execution_count": 9,
   "id": "f878e476",
   "metadata": {},
   "outputs": [],
   "source": [
    "nparray1 = np.array([1,2,3,4]) # numpy kütüphanesi kullanılarak array oluşturma\n",
    "nparray2 = np.array([1,2,3,4]).reshape(2,2) #direkt reshapeleme\n",
    "nparray3 = np.array([[1,2],[3,4]]) #manuel olutşruma\n",
    "nparray4 = np.array([[[1,2],[3,4],[5,6]]]) #üç boyutlu\n"
   ]
  },
  {
   "cell_type": "code",
   "execution_count": 10,
   "id": "825da223",
   "metadata": {},
   "outputs": [
    {
     "data": {
      "text/plain": [
       "array([[[1, 2],\n",
       "        [3, 4],\n",
       "        [5, 6]]])"
      ]
     },
     "execution_count": 10,
     "metadata": {},
     "output_type": "execute_result"
    }
   ],
   "source": [
    "nparray4"
   ]
  },
  {
   "cell_type": "code",
   "execution_count": 11,
   "id": "f95253e6",
   "metadata": {},
   "outputs": [
    {
     "name": "stdout",
     "output_type": "stream",
     "text": [
      "shape:  (1, 3, 2)\n",
      "dimension:  3\n",
      "data type:  int32\n",
      "size:  6\n",
      "type <class 'numpy.ndarray'>\n"
     ]
    }
   ],
   "source": [
    "print(\"shape: \",nparray4.shape) #3 satır 5 sütun\n",
    "\n",
    "print(\"dimension: \",nparray4.ndim) #matris boyutu\n",
    "\n",
    "print(\"data type: \",nparray4.dtype.name) #dtype\n",
    "\n",
    "print(\"size: \",nparray4.size) #reshape'siz boyutu aka. var array\n",
    "                       \n",
    "print(\"type\",type(nparray4))  #type <class 'numpy.ndarray'>"
   ]
  },
  {
   "cell_type": "code",
   "execution_count": 12,
   "id": "73ef4b0d",
   "metadata": {},
   "outputs": [],
   "source": [
    "zeros = np.zeros([3,3])"
   ]
  },
  {
   "cell_type": "code",
   "execution_count": 13,
   "id": "0497a7c7",
   "metadata": {},
   "outputs": [
    {
     "data": {
      "text/plain": [
       "array([[0., 0., 0.],\n",
       "       [0., 0., 0.],\n",
       "       [0., 0., 0.]])"
      ]
     },
     "execution_count": 13,
     "metadata": {},
     "output_type": "execute_result"
    }
   ],
   "source": [
    "zeros"
   ]
  },
  {
   "cell_type": "code",
   "execution_count": 14,
   "id": "b69f536e",
   "metadata": {},
   "outputs": [],
   "source": [
    "ones = np.ones([3,3])"
   ]
  },
  {
   "cell_type": "code",
   "execution_count": 15,
   "id": "3a6a3db2",
   "metadata": {},
   "outputs": [
    {
     "data": {
      "text/plain": [
       "array([[1., 1., 1.],\n",
       "       [1., 1., 1.],\n",
       "       [1., 1., 1.]])"
      ]
     },
     "execution_count": 15,
     "metadata": {},
     "output_type": "execute_result"
    }
   ],
   "source": [
    "ones"
   ]
  },
  {
   "cell_type": "code",
   "execution_count": 16,
   "id": "a19bb0e5",
   "metadata": {},
   "outputs": [],
   "source": [
    "eye= np.eye(5,5)"
   ]
  },
  {
   "cell_type": "code",
   "execution_count": 17,
   "id": "81626a37",
   "metadata": {},
   "outputs": [
    {
     "data": {
      "text/plain": [
       "array([[1., 0., 0., 0., 0.],\n",
       "       [0., 1., 0., 0., 0.],\n",
       "       [0., 0., 1., 0., 0.],\n",
       "       [0., 0., 0., 1., 0.],\n",
       "       [0., 0., 0., 0., 1.]])"
      ]
     },
     "execution_count": 17,
     "metadata": {},
     "output_type": "execute_result"
    }
   ],
   "source": [
    "eye"
   ]
  },
  {
   "cell_type": "code",
   "execution_count": 18,
   "id": "7e96f0e3",
   "metadata": {},
   "outputs": [],
   "source": [
    "empty = np.empty((4,4))"
   ]
  },
  {
   "cell_type": "code",
   "execution_count": 19,
   "id": "6875ad21",
   "metadata": {},
   "outputs": [
    {
     "data": {
      "text/plain": [
       "array([[6.23042070e-307, 4.67296746e-307, 1.69121096e-306,\n",
       "        9.34608432e-307],\n",
       "       [8.34441742e-308, 1.78022342e-306, 6.23058028e-307,\n",
       "        9.79107872e-307],\n",
       "       [6.89807188e-307, 7.56594375e-307, 6.23060065e-307,\n",
       "        1.78021527e-306],\n",
       "       [8.34454050e-308, 1.11261027e-306, 1.15706896e-306,\n",
       "        1.33512173e-306]])"
      ]
     },
     "execution_count": 19,
     "metadata": {},
     "output_type": "execute_result"
    }
   ],
   "source": [
    "empty #boş array"
   ]
  },
  {
   "cell_type": "code",
   "execution_count": 20,
   "id": "a74415e0",
   "metadata": {},
   "outputs": [
    {
     "data": {
      "text/plain": [
       "array([ 100.,  200.,  300.,  400.,  500.,  600.,  700.,  800.,  900.,\n",
       "       1000.])"
      ]
     },
     "execution_count": 20,
     "metadata": {},
     "output_type": "execute_result"
    }
   ],
   "source": [
    "np.arange(100,1001,100, dtype = float) #np.arange([start,] stop[, step,], dtype=None, *, like=None)"
   ]
  },
  {
   "cell_type": "code",
   "execution_count": 21,
   "id": "cc9f61fd",
   "metadata": {},
   "outputs": [],
   "source": [
    "a= np.array([1,2,3])\n",
    "b= np.array([4,5,6])"
   ]
  },
  {
   "cell_type": "code",
   "execution_count": 22,
   "id": "a0eb29c3",
   "metadata": {},
   "outputs": [
    {
     "data": {
      "text/plain": [
       "array([5, 7, 9])"
      ]
     },
     "execution_count": 22,
     "metadata": {},
     "output_type": "execute_result"
    }
   ],
   "source": [
    "a+b"
   ]
  },
  {
   "cell_type": "code",
   "execution_count": 23,
   "id": "0597cff2",
   "metadata": {},
   "outputs": [
    {
     "data": {
      "text/plain": [
       "array([-3, -3, -3])"
      ]
     },
     "execution_count": 23,
     "metadata": {},
     "output_type": "execute_result"
    }
   ],
   "source": [
    "a-b"
   ]
  },
  {
   "cell_type": "code",
   "execution_count": 24,
   "id": "d1d2a332",
   "metadata": {},
   "outputs": [
    {
     "data": {
      "text/plain": [
       "array([ 4, 10, 18])"
      ]
     },
     "execution_count": 24,
     "metadata": {},
     "output_type": "execute_result"
    }
   ],
   "source": [
    "a*b"
   ]
  },
  {
   "cell_type": "code",
   "execution_count": 25,
   "id": "c405646f",
   "metadata": {},
   "outputs": [
    {
     "data": {
      "text/plain": [
       "array([0.25, 0.4 , 0.5 ])"
      ]
     },
     "execution_count": 25,
     "metadata": {},
     "output_type": "execute_result"
    }
   ],
   "source": [
    "a/b"
   ]
  },
  {
   "cell_type": "code",
   "execution_count": 26,
   "id": "c3cfdc6f",
   "metadata": {},
   "outputs": [],
   "source": [
    "a= np.array([1,2,3,4,5,6,7])"
   ]
  },
  {
   "cell_type": "code",
   "execution_count": 27,
   "id": "33551f19",
   "metadata": {},
   "outputs": [
    {
     "data": {
      "text/plain": [
       "array([1, 2, 3, 4, 5, 6, 7])"
      ]
     },
     "execution_count": 27,
     "metadata": {},
     "output_type": "execute_result"
    }
   ],
   "source": [
    "a"
   ]
  },
  {
   "cell_type": "code",
   "execution_count": 28,
   "id": "5d9da7db",
   "metadata": {},
   "outputs": [],
   "source": [
    "liste = [1,2,3,4]\n",
    "array = np.array(liste)\n",
    "#listeyi array'e çevirme"
   ]
  },
  {
   "cell_type": "code",
   "execution_count": 29,
   "id": "41f8e636",
   "metadata": {},
   "outputs": [
    {
     "data": {
      "text/plain": [
       "array([1, 2, 3, 4])"
      ]
     },
     "execution_count": 29,
     "metadata": {},
     "output_type": "execute_result"
    }
   ],
   "source": [
    "array"
   ]
  },
  {
   "cell_type": "code",
   "execution_count": 30,
   "id": "1da7979b",
   "metadata": {},
   "outputs": [
    {
     "data": {
      "text/plain": [
       "list"
      ]
     },
     "execution_count": 30,
     "metadata": {},
     "output_type": "execute_result"
    }
   ],
   "source": [
    "type(liste)"
   ]
  },
  {
   "cell_type": "code",
   "execution_count": 31,
   "id": "42c99ae8",
   "metadata": {},
   "outputs": [
    {
     "data": {
      "text/plain": [
       "numpy.ndarray"
      ]
     },
     "execution_count": 31,
     "metadata": {},
     "output_type": "execute_result"
    }
   ],
   "source": [
    "type(array)"
   ]
  },
  {
   "cell_type": "code",
   "execution_count": 32,
   "id": "9e026ca8",
   "metadata": {},
   "outputs": [],
   "source": [
    "liste2 = list(array) #array'den liste'ye geçme"
   ]
  },
  {
   "cell_type": "code",
   "execution_count": 33,
   "id": "89bb78ae",
   "metadata": {},
   "outputs": [
    {
     "data": {
      "text/plain": [
       "list"
      ]
     },
     "execution_count": 33,
     "metadata": {},
     "output_type": "execute_result"
    }
   ],
   "source": [
    "type(liste2)"
   ]
  },
  {
   "cell_type": "code",
   "execution_count": 34,
   "id": "138e6f5b",
   "metadata": {},
   "outputs": [
    {
     "name": "stdout",
     "output_type": "stream",
     "text": [
      "[1 2 3]\n"
     ]
    }
   ],
   "source": [
    "a = np.array([1,2,3])\n",
    "print(a)"
   ]
  },
  {
   "cell_type": "code",
   "execution_count": 35,
   "id": "365c2ef9",
   "metadata": {},
   "outputs": [],
   "source": [
    "a = np.array([1,2,3,4],dtype = int)"
   ]
  },
  {
   "cell_type": "code",
   "execution_count": 36,
   "id": "05ddafe3",
   "metadata": {},
   "outputs": [
    {
     "data": {
      "text/plain": [
       "array([1, 2, 3, 4])"
      ]
     },
     "execution_count": 36,
     "metadata": {},
     "output_type": "execute_result"
    }
   ],
   "source": [
    "a"
   ]
  },
  {
   "cell_type": "code",
   "execution_count": 37,
   "id": "47ea9781",
   "metadata": {},
   "outputs": [],
   "source": [
    "b = a\n",
    "c = a"
   ]
  },
  {
   "cell_type": "code",
   "execution_count": 38,
   "id": "9bc2bf9d",
   "metadata": {},
   "outputs": [],
   "source": [
    "b[0] = 100"
   ]
  },
  {
   "cell_type": "code",
   "execution_count": 39,
   "id": "c09bb528",
   "metadata": {},
   "outputs": [
    {
     "name": "stdout",
     "output_type": "stream",
     "text": [
      "[100   2   3   4]\n"
     ]
    }
   ],
   "source": [
    "print(a)"
   ]
  },
  {
   "cell_type": "code",
   "execution_count": 40,
   "id": "a7890dcb",
   "metadata": {},
   "outputs": [],
   "source": [
    "#memory'den tek değer ayrıldığı için herhangi birinin indeksi değişince diğerlerinin de değişir.\n",
    "#bunun önüne geçme için copy() metodu kullanılır"
   ]
  },
  {
   "cell_type": "code",
   "execution_count": 41,
   "id": "41756a65",
   "metadata": {},
   "outputs": [],
   "source": [
    "d = c.copy()"
   ]
  },
  {
   "cell_type": "code",
   "execution_count": 42,
   "id": "84eeeb92",
   "metadata": {},
   "outputs": [],
   "source": [
    "d[0] = 999"
   ]
  },
  {
   "cell_type": "code",
   "execution_count": 43,
   "id": "ecc0a159",
   "metadata": {},
   "outputs": [
    {
     "name": "stdout",
     "output_type": "stream",
     "text": [
      "[100   2   3   4]\n",
      "[100   2   3   4]\n",
      "[100   2   3   4]\n",
      "[999   2   3   4]\n"
     ]
    }
   ],
   "source": [
    "print(a)\n",
    "print(b)\n",
    "print(c)\n",
    "print(d) # sağlama"
   ]
  },
  {
   "cell_type": "code",
   "execution_count": 44,
   "id": "3986d687",
   "metadata": {},
   "outputs": [
    {
     "data": {
      "text/plain": [
       "array([1, 2, 3, 4, 5, 6, 7, 8, 9])"
      ]
     },
     "execution_count": 44,
     "metadata": {},
     "output_type": "execute_result"
    }
   ],
   "source": [
    "arr = np.array([1,2,3,4,5,6,7,8,9])\n",
    "arr"
   ]
  },
  {
   "cell_type": "code",
   "execution_count": 45,
   "id": "2ef79c8a",
   "metadata": {},
   "outputs": [
    {
     "name": "stdout",
     "output_type": "stream",
     "text": [
      "sıfırıncı indeks değeri= 1\n",
      "ilk 4 indeks= [1 2 3 4]\n"
     ]
    }
   ],
   "source": [
    "# indeksler\n",
    "print(\"sıfırıncı indeks değeri=\", arr[0])\n",
    "print(\"ilk 4 indeks=\", arr[0:4])"
   ]
  },
  {
   "cell_type": "code",
   "execution_count": 46,
   "id": "9b82f326",
   "metadata": {},
   "outputs": [],
   "source": [
    "reverse_array = arr[::-1]"
   ]
  },
  {
   "cell_type": "code",
   "execution_count": 47,
   "id": "7d6aa647",
   "metadata": {},
   "outputs": [
    {
     "data": {
      "text/plain": [
       "array([9, 8, 7, 6, 5, 4, 3, 2, 1])"
      ]
     },
     "execution_count": 47,
     "metadata": {},
     "output_type": "execute_result"
    }
   ],
   "source": [
    "reverse_array"
   ]
  },
  {
   "cell_type": "code",
   "execution_count": 48,
   "id": "cc169479",
   "metadata": {},
   "outputs": [
    {
     "ename": "SyntaxError",
     "evalue": "closing parenthesis ')' does not match opening parenthesis '[' (1477370920.py, line 1)",
     "output_type": "error",
     "traceback": [
      "\u001b[1;36m  Input \u001b[1;32mIn [48]\u001b[1;36m\u001b[0m\n\u001b[1;33m    arr2 = np.array([)\u001b[0m\n\u001b[1;37m                     ^\u001b[0m\n\u001b[1;31mSyntaxError\u001b[0m\u001b[1;31m:\u001b[0m closing parenthesis ')' does not match opening parenthesis '['\n"
     ]
    }
   ],
   "source": [
    "arr2 = np.array([)\n",
    "print(b)"
   ]
  },
  {
   "cell_type": "code",
   "execution_count": 49,
   "id": "da856051",
   "metadata": {},
   "outputs": [
    {
     "data": {
      "text/plain": [
       "array([[ 0,  1,  2,  3,  4,  5,  6,  7,  8],\n",
       "       [ 9, 10, 11, 12, 13, 14, 15, 16, 17],\n",
       "       [18, 19, 20, 21, 22, 23, 24, 25, 26],\n",
       "       [27, 28, 29, 30, 31, 32, 33, 34, 35],\n",
       "       [36, 37, 38, 39, 40, 41, 42, 43, 44],\n",
       "       [45, 46, 47, 48, 49, 50, 51, 52, 53],\n",
       "       [54, 55, 56, 57, 58, 59, 60, 61, 62],\n",
       "       [63, 64, 65, 66, 67, 68, 69, 70, 71],\n",
       "       [72, 73, 74, 75, 76, 77, 78, 79, 80],\n",
       "       [81, 82, 83, 84, 85, 86, 87, 88, 89],\n",
       "       [90, 91, 92, 93, 94, 95, 96, 97, 98]])"
      ]
     },
     "execution_count": 49,
     "metadata": {},
     "output_type": "execute_result"
    }
   ],
   "source": [
    "arr2 = np.arange(0,99,1, dtype = int).reshape(11,9)\n",
    "arr2"
   ]
  },
  {
   "cell_type": "code",
   "execution_count": 50,
   "id": "74ad9175",
   "metadata": {
    "scrolled": true
   },
   "outputs": [
    {
     "name": "stdout",
     "output_type": "stream",
     "text": [
      "1.satır, 1.sütun: 10\n",
      "bütün satırlar, 6.sütun: [ 5 14 23 32 41 50 59 68 77 86 95]\n",
      "1.satır, bütün sütunlar: [0 1 2 3 4 5 6 7 8]\n",
      "2.satır ve 3.4.5. sütunlar: [11 12 13]\n",
      "son satır ve bütün sütunlar: [90 91 92 93 94 95 96 97 98]\n",
      "bütün satırlar ve son sütun: [ 8 17 26 35 44 53 62 71 80 89 98]\n"
     ]
    }
   ],
   "source": [
    "print('1.satır, 1.sütun:', arr2[1,1])\n",
    "\n",
    "print('bütün satırlar, 6.sütun:', arr2[:,5])\n",
    "\n",
    "print('1.satır, bütün sütunlar:',arr2[0,:]) \n",
    "\n",
    "print('2.satır ve 3.4.5. sütunlar:', arr2[1,2:5])\n",
    "\n",
    "print('son satır ve bütün sütunlar:', arr2[-1,:])\n",
    "\n",
    "print('bütün satırlar ve son sütun:', arr2[:,-1]) "
   ]
  },
  {
   "cell_type": "code",
   "execution_count": 51,
   "id": "225685a8",
   "metadata": {},
   "outputs": [],
   "source": [
    "#ravel tek boyutlu hale getirir\n",
    "#.T transpozunu alır\n",
    "#reshape yerine resize kullanılırsa başka değişkene kaydedilmesine gerek yoktur"
   ]
  },
  {
   "cell_type": "markdown",
   "id": "e15ee938",
   "metadata": {},
   "source": [
    "## PANDAS"
   ]
  },
  {
   "cell_type": "code",
   "execution_count": 52,
   "id": "cf4557ab",
   "metadata": {},
   "outputs": [],
   "source": [
    "import pandas as pd"
   ]
  },
  {
   "cell_type": "code",
   "execution_count": 53,
   "id": "c74c9d80",
   "metadata": {},
   "outputs": [
    {
     "name": "stdout",
     "output_type": "stream",
     "text": [
      "     name   age     note\n",
      "0    Eren  25.0    123.0\n",
      "1   Tuğçe  26.0    456.0\n",
      "2  Damien  24.0     78.0\n",
      "3     Can  27.0  87654.0\n",
      "4   Simla   NaN      NaN\n",
      "5  Berkay  26.0     89.0\n"
     ]
    }
   ],
   "source": [
    "dict = {\"name\":[\"Eren\",\"Tuğçe\",\"Damien\",\"Can\",\"Simla\",\"Berkay\"],\n",
    "             \"age\":[25,26,24,27,None,26],\n",
    "             \"note\":[123,456,78,87654,None,89]}\n",
    "\n",
    "df = pd.DataFrame(dict) \n",
    "print(df)"
   ]
  },
  {
   "cell_type": "code",
   "execution_count": 54,
   "id": "02488e41",
   "metadata": {},
   "outputs": [
    {
     "data": {
      "text/html": [
       "<div>\n",
       "<style scoped>\n",
       "    .dataframe tbody tr th:only-of-type {\n",
       "        vertical-align: middle;\n",
       "    }\n",
       "\n",
       "    .dataframe tbody tr th {\n",
       "        vertical-align: top;\n",
       "    }\n",
       "\n",
       "    .dataframe thead th {\n",
       "        text-align: right;\n",
       "    }\n",
       "</style>\n",
       "<table border=\"1\" class=\"dataframe\">\n",
       "  <thead>\n",
       "    <tr style=\"text-align: right;\">\n",
       "      <th></th>\n",
       "      <th>name</th>\n",
       "      <th>age</th>\n",
       "      <th>note</th>\n",
       "    </tr>\n",
       "  </thead>\n",
       "  <tbody>\n",
       "    <tr>\n",
       "      <th>0</th>\n",
       "      <td>Eren</td>\n",
       "      <td>25.0</td>\n",
       "      <td>123.0</td>\n",
       "    </tr>\n",
       "    <tr>\n",
       "      <th>1</th>\n",
       "      <td>Tuğçe</td>\n",
       "      <td>26.0</td>\n",
       "      <td>456.0</td>\n",
       "    </tr>\n",
       "    <tr>\n",
       "      <th>2</th>\n",
       "      <td>Damien</td>\n",
       "      <td>24.0</td>\n",
       "      <td>78.0</td>\n",
       "    </tr>\n",
       "    <tr>\n",
       "      <th>3</th>\n",
       "      <td>Can</td>\n",
       "      <td>27.0</td>\n",
       "      <td>87654.0</td>\n",
       "    </tr>\n",
       "    <tr>\n",
       "      <th>4</th>\n",
       "      <td>Simla</td>\n",
       "      <td>NaN</td>\n",
       "      <td>NaN</td>\n",
       "    </tr>\n",
       "  </tbody>\n",
       "</table>\n",
       "</div>"
      ],
      "text/plain": [
       "     name   age     note\n",
       "0    Eren  25.0    123.0\n",
       "1   Tuğçe  26.0    456.0\n",
       "2  Damien  24.0     78.0\n",
       "3     Can  27.0  87654.0\n",
       "4   Simla   NaN      NaN"
      ]
     },
     "execution_count": 54,
     "metadata": {},
     "output_type": "execute_result"
    }
   ],
   "source": [
    "df.head()#ilk beş"
   ]
  },
  {
   "cell_type": "code",
   "execution_count": 55,
   "id": "303b4131",
   "metadata": {},
   "outputs": [
    {
     "data": {
      "text/html": [
       "<div>\n",
       "<style scoped>\n",
       "    .dataframe tbody tr th:only-of-type {\n",
       "        vertical-align: middle;\n",
       "    }\n",
       "\n",
       "    .dataframe tbody tr th {\n",
       "        vertical-align: top;\n",
       "    }\n",
       "\n",
       "    .dataframe thead th {\n",
       "        text-align: right;\n",
       "    }\n",
       "</style>\n",
       "<table border=\"1\" class=\"dataframe\">\n",
       "  <thead>\n",
       "    <tr style=\"text-align: right;\">\n",
       "      <th></th>\n",
       "      <th>name</th>\n",
       "      <th>age</th>\n",
       "      <th>note</th>\n",
       "    </tr>\n",
       "  </thead>\n",
       "  <tbody>\n",
       "    <tr>\n",
       "      <th>1</th>\n",
       "      <td>Tuğçe</td>\n",
       "      <td>26.0</td>\n",
       "      <td>456.0</td>\n",
       "    </tr>\n",
       "    <tr>\n",
       "      <th>2</th>\n",
       "      <td>Damien</td>\n",
       "      <td>24.0</td>\n",
       "      <td>78.0</td>\n",
       "    </tr>\n",
       "    <tr>\n",
       "      <th>3</th>\n",
       "      <td>Can</td>\n",
       "      <td>27.0</td>\n",
       "      <td>87654.0</td>\n",
       "    </tr>\n",
       "    <tr>\n",
       "      <th>4</th>\n",
       "      <td>Simla</td>\n",
       "      <td>NaN</td>\n",
       "      <td>NaN</td>\n",
       "    </tr>\n",
       "    <tr>\n",
       "      <th>5</th>\n",
       "      <td>Berkay</td>\n",
       "      <td>26.0</td>\n",
       "      <td>89.0</td>\n",
       "    </tr>\n",
       "  </tbody>\n",
       "</table>\n",
       "</div>"
      ],
      "text/plain": [
       "     name   age     note\n",
       "1   Tuğçe  26.0    456.0\n",
       "2  Damien  24.0     78.0\n",
       "3     Can  27.0  87654.0\n",
       "4   Simla   NaN      NaN\n",
       "5  Berkay  26.0     89.0"
      ]
     },
     "execution_count": 55,
     "metadata": {},
     "output_type": "execute_result"
    }
   ],
   "source": [
    "df.tail()#son beş"
   ]
  },
  {
   "cell_type": "code",
   "execution_count": 56,
   "id": "6f974b70",
   "metadata": {},
   "outputs": [
    {
     "data": {
      "text/plain": [
       "Index(['name', 'age', 'note'], dtype='object')"
      ]
     },
     "execution_count": 56,
     "metadata": {},
     "output_type": "execute_result"
    }
   ],
   "source": [
    "df.columns # sütunlar"
   ]
  },
  {
   "cell_type": "code",
   "execution_count": 57,
   "id": "53e5d19c",
   "metadata": {},
   "outputs": [
    {
     "name": "stdout",
     "output_type": "stream",
     "text": [
      "<class 'pandas.core.frame.DataFrame'>\n",
      "RangeIndex: 6 entries, 0 to 5\n",
      "Data columns (total 3 columns):\n",
      " #   Column  Non-Null Count  Dtype  \n",
      "---  ------  --------------  -----  \n",
      " 0   name    6 non-null      object \n",
      " 1   age     5 non-null      float64\n",
      " 2   note    5 non-null      float64\n",
      "dtypes: float64(2), object(1)\n",
      "memory usage: 272.0+ bytes\n"
     ]
    }
   ],
   "source": [
    "df.info() # bilgi"
   ]
  },
  {
   "cell_type": "code",
   "execution_count": 58,
   "id": "2fb3256c",
   "metadata": {},
   "outputs": [
    {
     "data": {
      "text/plain": [
       "name     object\n",
       "age     float64\n",
       "note    float64\n",
       "dtype: object"
      ]
     },
     "execution_count": 58,
     "metadata": {},
     "output_type": "execute_result"
    }
   ],
   "source": [
    "df.dtypes"
   ]
  },
  {
   "cell_type": "code",
   "execution_count": 59,
   "id": "13cec1a0",
   "metadata": {},
   "outputs": [
    {
     "data": {
      "text/plain": [
       "<bound method NDFrame.describe of      name   age     note\n",
       "0    Eren  25.0    123.0\n",
       "1   Tuğçe  26.0    456.0\n",
       "2  Damien  24.0     78.0\n",
       "3     Can  27.0  87654.0\n",
       "4   Simla   NaN      NaN\n",
       "5  Berkay  26.0     89.0>"
      ]
     },
     "execution_count": 59,
     "metadata": {},
     "output_type": "execute_result"
    }
   ],
   "source": [
    "df.describe"
   ]
  },
  {
   "cell_type": "code",
   "execution_count": 60,
   "id": "35409e56",
   "metadata": {},
   "outputs": [
    {
     "name": "stdout",
     "output_type": "stream",
     "text": [
      "             age         note\n",
      "count   5.000000      5.00000\n",
      "mean   25.600000  17680.00000\n",
      "std     1.140175  39116.96814\n",
      "min    24.000000     78.00000\n",
      "25%    25.000000     89.00000\n",
      "50%    26.000000    123.00000\n",
      "75%    26.000000    456.00000\n",
      "max    27.000000  87654.00000\n"
     ]
    }
   ],
   "source": [
    "print(df.describe()) "
   ]
  },
  {
   "cell_type": "code",
   "execution_count": 61,
   "id": "36a06f01",
   "metadata": {},
   "outputs": [
    {
     "data": {
      "text/html": [
       "<div>\n",
       "<style scoped>\n",
       "    .dataframe tbody tr th:only-of-type {\n",
       "        vertical-align: middle;\n",
       "    }\n",
       "\n",
       "    .dataframe tbody tr th {\n",
       "        vertical-align: top;\n",
       "    }\n",
       "\n",
       "    .dataframe thead th {\n",
       "        text-align: right;\n",
       "    }\n",
       "</style>\n",
       "<table border=\"1\" class=\"dataframe\">\n",
       "  <thead>\n",
       "    <tr style=\"text-align: right;\">\n",
       "      <th></th>\n",
       "      <th>count</th>\n",
       "      <th>mean</th>\n",
       "      <th>std</th>\n",
       "      <th>min</th>\n",
       "      <th>25%</th>\n",
       "      <th>50%</th>\n",
       "      <th>75%</th>\n",
       "      <th>max</th>\n",
       "    </tr>\n",
       "  </thead>\n",
       "  <tbody>\n",
       "    <tr>\n",
       "      <th>age</th>\n",
       "      <td>5.0</td>\n",
       "      <td>25.6</td>\n",
       "      <td>1.140175</td>\n",
       "      <td>24.0</td>\n",
       "      <td>25.0</td>\n",
       "      <td>26.0</td>\n",
       "      <td>26.0</td>\n",
       "      <td>27.0</td>\n",
       "    </tr>\n",
       "    <tr>\n",
       "      <th>note</th>\n",
       "      <td>5.0</td>\n",
       "      <td>17680.0</td>\n",
       "      <td>39116.968140</td>\n",
       "      <td>78.0</td>\n",
       "      <td>89.0</td>\n",
       "      <td>123.0</td>\n",
       "      <td>456.0</td>\n",
       "      <td>87654.0</td>\n",
       "    </tr>\n",
       "  </tbody>\n",
       "</table>\n",
       "</div>"
      ],
      "text/plain": [
       "      count     mean           std   min   25%    50%    75%      max\n",
       "age     5.0     25.6      1.140175  24.0  25.0   26.0   26.0     27.0\n",
       "note    5.0  17680.0  39116.968140  78.0  89.0  123.0  456.0  87654.0"
      ]
     },
     "execution_count": 61,
     "metadata": {},
     "output_type": "execute_result"
    }
   ],
   "source": [
    "df.describe().T #transpozu alınarak daha anlaşılır hali"
   ]
  },
  {
   "cell_type": "code",
   "execution_count": 62,
   "id": "5f350355",
   "metadata": {},
   "outputs": [
    {
     "name": "stdout",
     "output_type": "stream",
     "text": [
      "0      Eren\n",
      "1     Tuğçe\n",
      "2    Damien\n",
      "3       Can\n",
      "4     Simla\n",
      "5    Berkay\n",
      "Name: name, dtype: object\n",
      "0    25.0\n",
      "1    26.0\n",
      "2    24.0\n",
      "3    27.0\n",
      "4     NaN\n",
      "5    26.0\n",
      "Name: age, dtype: float64\n",
      "0    25.0\n",
      "1    26.0\n",
      "2    24.0\n",
      "3    27.0\n",
      "Name: age, dtype: float64\n",
      "     name   age     note\n",
      "0    Eren  25.0    123.0\n",
      "1   Tuğçe  26.0    456.0\n",
      "2  Damien  24.0     78.0\n",
      "3     Can  27.0  87654.0\n",
      "     name   age     note  yeni_sütun\n",
      "5  Berkay  26.0     89.0           6\n",
      "4   Simla   NaN      NaN           5\n",
      "3     Can  27.0  87654.0           4\n",
      "2  Damien  24.0     78.0           3\n",
      "1   Tuğçe  26.0    456.0           2\n",
      "0    Eren  25.0    123.0           1\n"
     ]
    }
   ],
   "source": [
    "print(df[\"name\"]) \n",
    "print(df.loc[:, \"age\"]) \n",
    "df[\"yeni_sütun\"] = [1,2,3,4,5,6]\n",
    "print(df.loc[:3,\"age\"]) \n",
    "print(df.loc[:3, \"name\":\"note\"]) \n",
    "print(df.loc[::-1])"
   ]
  },
  {
   "cell_type": "code",
   "execution_count": 63,
   "id": "d5723478",
   "metadata": {},
   "outputs": [
    {
     "name": "stdout",
     "output_type": "stream",
     "text": [
      "0    1\n",
      "1    2\n",
      "2    3\n",
      "3    4\n",
      "4    5\n",
      "5    6\n",
      "Name: yeni_sütun, dtype: int64\n"
     ]
    }
   ],
   "source": [
    "print(df.yeni_sütun) "
   ]
  },
  {
   "cell_type": "code",
   "execution_count": 64,
   "id": "d9ec0945",
   "metadata": {},
   "outputs": [
    {
     "name": "stdout",
     "output_type": "stream",
     "text": [
      "0    25.0\n",
      "1    26.0\n",
      "2    24.0\n",
      "3    27.0\n",
      "4     NaN\n",
      "5    26.0\n",
      "Name: age, dtype: float64\n"
     ]
    }
   ],
   "source": [
    "print(df.loc[:, \"age\"]) # age sütunun getirme"
   ]
  },
  {
   "cell_type": "code",
   "execution_count": 65,
   "id": "98ada510",
   "metadata": {},
   "outputs": [
    {
     "name": "stdout",
     "output_type": "stream",
     "text": [
      "0    25.0\n",
      "1    26.0\n",
      "2    24.0\n",
      "3    27.0\n",
      "Name: age, dtype: float64\n"
     ]
    }
   ],
   "source": [
    "print(df.loc[:3,\"age\"]) #"
   ]
  },
  {
   "cell_type": "code",
   "execution_count": 66,
   "id": "72a805e4",
   "metadata": {},
   "outputs": [
    {
     "name": "stdout",
     "output_type": "stream",
     "text": [
      "     name     note\n",
      "0    Eren    123.0\n",
      "1   Tuğçe    456.0\n",
      "2  Damien     78.0\n",
      "3     Can  87654.0\n"
     ]
    }
   ],
   "source": [
    "print(df.loc[:3, [\"name\",\"note\"]])"
   ]
  },
  {
   "cell_type": "code",
   "execution_count": 67,
   "id": "1dc5a217",
   "metadata": {},
   "outputs": [
    {
     "name": "stdout",
     "output_type": "stream",
     "text": [
      "     name   age\n",
      "0    Eren  25.0\n",
      "1   Tuğçe  26.0\n",
      "2  Damien  24.0\n",
      "3     Can  27.0\n",
      "4   Simla   NaN\n",
      "5  Berkay  26.0\n"
     ]
    }
   ],
   "source": [
    "print(df.loc[:,:\"age\"]) "
   ]
  },
  {
   "cell_type": "code",
   "execution_count": 68,
   "id": "de05fbeb",
   "metadata": {},
   "outputs": [
    {
     "name": "stdout",
     "output_type": "stream",
     "text": [
      "    age   bool\n",
      "0  25.0  False\n",
      "1  26.0   True\n",
      "2  24.0  False\n",
      "3  27.0   True\n",
      "4   NaN  False\n",
      "5  26.0   True\n"
     ]
    }
   ],
   "source": [
    "df_ustu25 = df.age>25                         \n",
    "df[\"bool\"]= df_ustu25\n",
    "print(df.loc[:,[\"age\",\"bool\"]])"
   ]
  },
  {
   "cell_type": "code",
   "execution_count": 69,
   "id": "4668aa04",
   "metadata": {},
   "outputs": [
    {
     "data": {
      "text/plain": [
       "pandas.core.series.Series"
      ]
     },
     "execution_count": 69,
     "metadata": {},
     "output_type": "execute_result"
    }
   ],
   "source": [
    "type(df_ustu25)"
   ]
  },
  {
   "cell_type": "code",
   "execution_count": 70,
   "id": "449bfb15",
   "metadata": {},
   "outputs": [
    {
     "name": "stdout",
     "output_type": "stream",
     "text": [
      "     name   age     note  yeni_sütun  bool\n",
      "1   Tuğçe  26.0    456.0           2  True\n",
      "3     Can  27.0  87654.0           4  True\n",
      "5  Berkay  26.0     89.0           6  True\n"
     ]
    }
   ],
   "source": [
    "filtrelenmis_data= df[df_ustu25] #koşulları sağlayanlar için yeni df\n",
    "print(filtrelenmis_data)\n"
   ]
  },
  {
   "cell_type": "code",
   "execution_count": 71,
   "id": "620d23ca",
   "metadata": {},
   "outputs": [
    {
     "name": "stdout",
     "output_type": "stream",
     "text": [
      "    name   age     note  yeni_sütun  bool\n",
      "1  Tuğçe  26.0    456.0           2  True\n",
      "3    Can  27.0  87654.0           4  True\n"
     ]
    }
   ],
   "source": [
    "df_notustu100 = df.note>100\n",
    "filtrelenmis_data2 = df[df_ustu25&df_notustu100] # koşulları sağlayanlar için yeni df\n",
    "print(filtrelenmis_data2)\n"
   ]
  },
  {
   "cell_type": "code",
   "execution_count": 72,
   "id": "c422142e",
   "metadata": {},
   "outputs": [
    {
     "data": {
      "text/html": [
       "<div>\n",
       "<style scoped>\n",
       "    .dataframe tbody tr th:only-of-type {\n",
       "        vertical-align: middle;\n",
       "    }\n",
       "\n",
       "    .dataframe tbody tr th {\n",
       "        vertical-align: top;\n",
       "    }\n",
       "\n",
       "    .dataframe thead th {\n",
       "        text-align: right;\n",
       "    }\n",
       "</style>\n",
       "<table border=\"1\" class=\"dataframe\">\n",
       "  <thead>\n",
       "    <tr style=\"text-align: right;\">\n",
       "      <th></th>\n",
       "      <th>name</th>\n",
       "      <th>age</th>\n",
       "      <th>note</th>\n",
       "      <th>yeni_sütun</th>\n",
       "      <th>bool</th>\n",
       "    </tr>\n",
       "  </thead>\n",
       "  <tbody>\n",
       "    <tr>\n",
       "      <th>1</th>\n",
       "      <td>Tuğçe</td>\n",
       "      <td>26.0</td>\n",
       "      <td>456.0</td>\n",
       "      <td>2</td>\n",
       "      <td>True</td>\n",
       "    </tr>\n",
       "    <tr>\n",
       "      <th>3</th>\n",
       "      <td>Can</td>\n",
       "      <td>27.0</td>\n",
       "      <td>87654.0</td>\n",
       "      <td>4</td>\n",
       "      <td>True</td>\n",
       "    </tr>\n",
       "    <tr>\n",
       "      <th>5</th>\n",
       "      <td>Berkay</td>\n",
       "      <td>26.0</td>\n",
       "      <td>89.0</td>\n",
       "      <td>6</td>\n",
       "      <td>True</td>\n",
       "    </tr>\n",
       "  </tbody>\n",
       "</table>\n",
       "</div>"
      ],
      "text/plain": [
       "     name   age     note  yeni_sütun  bool\n",
       "1   Tuğçe  26.0    456.0           2  True\n",
       "3     Can  27.0  87654.0           4  True\n",
       "5  Berkay  26.0     89.0           6  True"
      ]
     },
     "execution_count": 72,
     "metadata": {},
     "output_type": "execute_result"
    }
   ],
   "source": [
    "df[df.age>25]"
   ]
  },
  {
   "cell_type": "code",
   "execution_count": 73,
   "id": "f5791d19",
   "metadata": {},
   "outputs": [],
   "source": [
    "avg = df.note.mean()#pandas ort bulma"
   ]
  },
  {
   "cell_type": "code",
   "execution_count": 74,
   "id": "07d0d702",
   "metadata": {},
   "outputs": [
    {
     "data": {
      "text/plain": [
       "17680.0"
      ]
     },
     "execution_count": 74,
     "metadata": {},
     "output_type": "execute_result"
    }
   ],
   "source": [
    "avg"
   ]
  },
  {
   "cell_type": "code",
   "execution_count": 75,
   "id": "e0f68c8d",
   "metadata": {},
   "outputs": [],
   "source": [
    "avg_np= np.mean(df.note) #numpy ort bulma"
   ]
  },
  {
   "cell_type": "code",
   "execution_count": 76,
   "id": "4de8de90",
   "metadata": {},
   "outputs": [
    {
     "data": {
      "text/plain": [
       "17680.0"
      ]
     },
     "execution_count": 76,
     "metadata": {},
     "output_type": "execute_result"
    }
   ],
   "source": [
    "avg_np"
   ]
  },
  {
   "cell_type": "code",
   "execution_count": 77,
   "id": "3cd448ec",
   "metadata": {},
   "outputs": [
    {
     "data": {
      "text/html": [
       "<div>\n",
       "<style scoped>\n",
       "    .dataframe tbody tr th:only-of-type {\n",
       "        vertical-align: middle;\n",
       "    }\n",
       "\n",
       "    .dataframe tbody tr th {\n",
       "        vertical-align: top;\n",
       "    }\n",
       "\n",
       "    .dataframe thead th {\n",
       "        text-align: right;\n",
       "    }\n",
       "</style>\n",
       "<table border=\"1\" class=\"dataframe\">\n",
       "  <thead>\n",
       "    <tr style=\"text-align: right;\">\n",
       "      <th></th>\n",
       "      <th>name</th>\n",
       "      <th>age</th>\n",
       "      <th>note</th>\n",
       "      <th>yeni_sütun</th>\n",
       "      <th>bool</th>\n",
       "    </tr>\n",
       "  </thead>\n",
       "  <tbody>\n",
       "    <tr>\n",
       "      <th>0</th>\n",
       "      <td>Eren</td>\n",
       "      <td>25.0</td>\n",
       "      <td>123.0</td>\n",
       "      <td>1</td>\n",
       "      <td>False</td>\n",
       "    </tr>\n",
       "    <tr>\n",
       "      <th>1</th>\n",
       "      <td>Tuğçe</td>\n",
       "      <td>26.0</td>\n",
       "      <td>456.0</td>\n",
       "      <td>2</td>\n",
       "      <td>True</td>\n",
       "    </tr>\n",
       "    <tr>\n",
       "      <th>2</th>\n",
       "      <td>Damien</td>\n",
       "      <td>24.0</td>\n",
       "      <td>78.0</td>\n",
       "      <td>3</td>\n",
       "      <td>False</td>\n",
       "    </tr>\n",
       "    <tr>\n",
       "      <th>3</th>\n",
       "      <td>Can</td>\n",
       "      <td>27.0</td>\n",
       "      <td>87654.0</td>\n",
       "      <td>4</td>\n",
       "      <td>True</td>\n",
       "    </tr>\n",
       "    <tr>\n",
       "      <th>5</th>\n",
       "      <td>Berkay</td>\n",
       "      <td>26.0</td>\n",
       "      <td>89.0</td>\n",
       "      <td>6</td>\n",
       "      <td>True</td>\n",
       "    </tr>\n",
       "  </tbody>\n",
       "</table>\n",
       "</div>"
      ],
      "text/plain": [
       "     name   age     note  yeni_sütun   bool\n",
       "0    Eren  25.0    123.0           1  False\n",
       "1   Tuğçe  26.0    456.0           2   True\n",
       "2  Damien  24.0     78.0           3  False\n",
       "3     Can  27.0  87654.0           4   True\n",
       "5  Berkay  26.0     89.0           6   True"
      ]
     },
     "execution_count": 77,
     "metadata": {},
     "output_type": "execute_result"
    }
   ],
   "source": [
    "df.dropna(inplace=True) #null değerlerin silinmesi inplace kalıcı hale getirir\n",
    "df"
   ]
  },
  {
   "cell_type": "code",
   "execution_count": 78,
   "id": "e835d31a",
   "metadata": {},
   "outputs": [
    {
     "name": "stdout",
     "output_type": "stream",
     "text": [
      "17680.0\n"
     ]
    },
    {
     "data": {
      "text/html": [
       "<div>\n",
       "<style scoped>\n",
       "    .dataframe tbody tr th:only-of-type {\n",
       "        vertical-align: middle;\n",
       "    }\n",
       "\n",
       "    .dataframe tbody tr th {\n",
       "        vertical-align: top;\n",
       "    }\n",
       "\n",
       "    .dataframe thead th {\n",
       "        text-align: right;\n",
       "    }\n",
       "</style>\n",
       "<table border=\"1\" class=\"dataframe\">\n",
       "  <thead>\n",
       "    <tr style=\"text-align: right;\">\n",
       "      <th></th>\n",
       "      <th>name</th>\n",
       "      <th>age</th>\n",
       "      <th>note</th>\n",
       "      <th>yeni_sütun</th>\n",
       "      <th>bool</th>\n",
       "      <th>ortalama</th>\n",
       "    </tr>\n",
       "  </thead>\n",
       "  <tbody>\n",
       "    <tr>\n",
       "      <th>0</th>\n",
       "      <td>Eren</td>\n",
       "      <td>25.0</td>\n",
       "      <td>123.0</td>\n",
       "      <td>1</td>\n",
       "      <td>False</td>\n",
       "      <td>ortalamanın altında</td>\n",
       "    </tr>\n",
       "    <tr>\n",
       "      <th>1</th>\n",
       "      <td>Tuğçe</td>\n",
       "      <td>26.0</td>\n",
       "      <td>456.0</td>\n",
       "      <td>2</td>\n",
       "      <td>True</td>\n",
       "      <td>ortalamanın altında</td>\n",
       "    </tr>\n",
       "    <tr>\n",
       "      <th>2</th>\n",
       "      <td>Damien</td>\n",
       "      <td>24.0</td>\n",
       "      <td>78.0</td>\n",
       "      <td>3</td>\n",
       "      <td>False</td>\n",
       "      <td>ortalamanın altında</td>\n",
       "    </tr>\n",
       "    <tr>\n",
       "      <th>3</th>\n",
       "      <td>Can</td>\n",
       "      <td>27.0</td>\n",
       "      <td>87654.0</td>\n",
       "      <td>4</td>\n",
       "      <td>True</td>\n",
       "      <td>ortalamanın üstünde</td>\n",
       "    </tr>\n",
       "    <tr>\n",
       "      <th>5</th>\n",
       "      <td>Berkay</td>\n",
       "      <td>26.0</td>\n",
       "      <td>89.0</td>\n",
       "      <td>6</td>\n",
       "      <td>True</td>\n",
       "      <td>ortalamanın altında</td>\n",
       "    </tr>\n",
       "  </tbody>\n",
       "</table>\n",
       "</div>"
      ],
      "text/plain": [
       "     name   age     note  yeni_sütun   bool             ortalama\n",
       "0    Eren  25.0    123.0           1  False  ortalamanın altında\n",
       "1   Tuğçe  26.0    456.0           2   True  ortalamanın altında\n",
       "2  Damien  24.0     78.0           3  False  ortalamanın altında\n",
       "3     Can  27.0  87654.0           4   True  ortalamanın üstünde\n",
       "5  Berkay  26.0     89.0           6   True  ortalamanın altında"
      ]
     },
     "execution_count": 78,
     "metadata": {},
     "output_type": "execute_result"
    }
   ],
   "source": [
    "print(df.note.mean()) #ortalama not hesabı\n",
    "#ortalamaya sütunu eklenip  avg hesabına göre ort altı ya da üstü diye değer atanması.\n",
    "df[\"ortalama\"]= [\"ortalamanın altında\" if df.note.mean()>each else \"ortalamanın üstünde\" for each in df.note]\n",
    "df"
   ]
  },
  {
   "cell_type": "code",
   "execution_count": 79,
   "id": "2e27b671",
   "metadata": {},
   "outputs": [
    {
     "data": {
      "text/plain": [
       "Index(['NAME', 'AGE', 'NOTE', 'YENI_SÜTUN', 'BOOL', 'ORTALAMA'], dtype='object')"
      ]
     },
     "execution_count": 79,
     "metadata": {},
     "output_type": "execute_result"
    }
   ],
   "source": [
    "df.columns = [each.upper() for each in df.columns]\n",
    "df.columns # sütunlar upper() metoduyla büyük harfe getirildi"
   ]
  },
  {
   "cell_type": "code",
   "execution_count": 80,
   "id": "5665affb",
   "metadata": {},
   "outputs": [
    {
     "data": {
      "text/html": [
       "<div>\n",
       "<style scoped>\n",
       "    .dataframe tbody tr th:only-of-type {\n",
       "        vertical-align: middle;\n",
       "    }\n",
       "\n",
       "    .dataframe tbody tr th {\n",
       "        vertical-align: top;\n",
       "    }\n",
       "\n",
       "    .dataframe thead th {\n",
       "        text-align: right;\n",
       "    }\n",
       "</style>\n",
       "<table border=\"1\" class=\"dataframe\">\n",
       "  <thead>\n",
       "    <tr style=\"text-align: right;\">\n",
       "      <th></th>\n",
       "      <th>NAME</th>\n",
       "      <th>AGE</th>\n",
       "      <th>NOTE</th>\n",
       "      <th>YENI_SÜTUN</th>\n",
       "      <th>BOOL</th>\n",
       "      <th>ORTALAMA</th>\n",
       "    </tr>\n",
       "  </thead>\n",
       "  <tbody>\n",
       "    <tr>\n",
       "      <th>0</th>\n",
       "      <td>Eren</td>\n",
       "      <td>25.0</td>\n",
       "      <td>123.0</td>\n",
       "      <td>1</td>\n",
       "      <td>False</td>\n",
       "      <td>ortalamanın altında</td>\n",
       "    </tr>\n",
       "    <tr>\n",
       "      <th>1</th>\n",
       "      <td>Tuğçe</td>\n",
       "      <td>26.0</td>\n",
       "      <td>456.0</td>\n",
       "      <td>2</td>\n",
       "      <td>True</td>\n",
       "      <td>ortalamanın altında</td>\n",
       "    </tr>\n",
       "    <tr>\n",
       "      <th>2</th>\n",
       "      <td>Damien</td>\n",
       "      <td>24.0</td>\n",
       "      <td>78.0</td>\n",
       "      <td>3</td>\n",
       "      <td>False</td>\n",
       "      <td>ortalamanın altında</td>\n",
       "    </tr>\n",
       "    <tr>\n",
       "      <th>3</th>\n",
       "      <td>Can</td>\n",
       "      <td>27.0</td>\n",
       "      <td>87654.0</td>\n",
       "      <td>4</td>\n",
       "      <td>True</td>\n",
       "      <td>ortalamanın üstünde</td>\n",
       "    </tr>\n",
       "    <tr>\n",
       "      <th>5</th>\n",
       "      <td>Berkay</td>\n",
       "      <td>26.0</td>\n",
       "      <td>89.0</td>\n",
       "      <td>6</td>\n",
       "      <td>True</td>\n",
       "      <td>ortalamanın altında</td>\n",
       "    </tr>\n",
       "  </tbody>\n",
       "</table>\n",
       "</div>"
      ],
      "text/plain": [
       "     NAME   AGE     NOTE  YENI_SÜTUN   BOOL             ORTALAMA\n",
       "0    Eren  25.0    123.0           1  False  ortalamanın altında\n",
       "1   Tuğçe  26.0    456.0           2   True  ortalamanın altında\n",
       "2  Damien  24.0     78.0           3  False  ortalamanın altında\n",
       "3     Can  27.0  87654.0           4   True  ortalamanın üstünde\n",
       "5  Berkay  26.0     89.0           6   True  ortalamanın altında"
      ]
     },
     "execution_count": 80,
     "metadata": {},
     "output_type": "execute_result"
    }
   ],
   "source": [
    "df"
   ]
  },
  {
   "cell_type": "code",
   "execution_count": 81,
   "id": "f7d4908b",
   "metadata": {},
   "outputs": [
    {
     "data": {
      "text/html": [
       "<div>\n",
       "<style scoped>\n",
       "    .dataframe tbody tr th:only-of-type {\n",
       "        vertical-align: middle;\n",
       "    }\n",
       "\n",
       "    .dataframe tbody tr th {\n",
       "        vertical-align: top;\n",
       "    }\n",
       "\n",
       "    .dataframe thead th {\n",
       "        text-align: right;\n",
       "    }\n",
       "</style>\n",
       "<table border=\"1\" class=\"dataframe\">\n",
       "  <thead>\n",
       "    <tr style=\"text-align: right;\">\n",
       "      <th></th>\n",
       "      <th>NAME</th>\n",
       "      <th>AGE</th>\n",
       "      <th>NOTE</th>\n",
       "      <th>YENI SÜTUN</th>\n",
       "      <th>BOOL</th>\n",
       "      <th>ORTALAMA</th>\n",
       "      <th>yeni sutun</th>\n",
       "    </tr>\n",
       "  </thead>\n",
       "  <tbody>\n",
       "    <tr>\n",
       "      <th>0</th>\n",
       "      <td>Eren</td>\n",
       "      <td>25.0</td>\n",
       "      <td>123.0</td>\n",
       "      <td>1</td>\n",
       "      <td>False</td>\n",
       "      <td>ortalamanın altında</td>\n",
       "      <td>1</td>\n",
       "    </tr>\n",
       "    <tr>\n",
       "      <th>1</th>\n",
       "      <td>Tuğçe</td>\n",
       "      <td>26.0</td>\n",
       "      <td>456.0</td>\n",
       "      <td>2</td>\n",
       "      <td>True</td>\n",
       "      <td>ortalamanın altında</td>\n",
       "      <td>1</td>\n",
       "    </tr>\n",
       "    <tr>\n",
       "      <th>2</th>\n",
       "      <td>Damien</td>\n",
       "      <td>24.0</td>\n",
       "      <td>78.0</td>\n",
       "      <td>3</td>\n",
       "      <td>False</td>\n",
       "      <td>ortalamanın altında</td>\n",
       "      <td>1</td>\n",
       "    </tr>\n",
       "    <tr>\n",
       "      <th>3</th>\n",
       "      <td>Can</td>\n",
       "      <td>27.0</td>\n",
       "      <td>87654.0</td>\n",
       "      <td>4</td>\n",
       "      <td>True</td>\n",
       "      <td>ortalamanın üstünde</td>\n",
       "      <td>1</td>\n",
       "    </tr>\n",
       "    <tr>\n",
       "      <th>5</th>\n",
       "      <td>Berkay</td>\n",
       "      <td>26.0</td>\n",
       "      <td>89.0</td>\n",
       "      <td>6</td>\n",
       "      <td>True</td>\n",
       "      <td>ortalamanın altında</td>\n",
       "      <td>1</td>\n",
       "    </tr>\n",
       "  </tbody>\n",
       "</table>\n",
       "</div>"
      ],
      "text/plain": [
       "     NAME   AGE     NOTE  YENI SÜTUN   BOOL             ORTALAMA  yeni sutun\n",
       "0    Eren  25.0    123.0           1  False  ortalamanın altında           1\n",
       "1   Tuğçe  26.0    456.0           2   True  ortalamanın altında           1\n",
       "2  Damien  24.0     78.0           3  False  ortalamanın altında           1\n",
       "3     Can  27.0  87654.0           4   True  ortalamanın üstünde           1\n",
       "5  Berkay  26.0     89.0           6   True  ortalamanın altında           1"
      ]
     },
     "execution_count": 81,
     "metadata": {},
     "output_type": "execute_result"
    }
   ],
   "source": [
    "df[\"yeni_sutun\"]=[1,1,1,1,1]\n",
    "df.columns = [each.split('_')[0]+\" \"+each.split('_')[1] if len(each.split('_'))>1 else each for each in df.columns]\n",
    "df\n",
    "# sütunlardaki _'lerin kaldırılıp, yeni sütun eklenmesi kodları"
   ]
  },
  {
   "cell_type": "code",
   "execution_count": 82,
   "id": "a696b522",
   "metadata": {},
   "outputs": [],
   "source": [
    "df.columns = [ each.split(\" \")[0]+\"_\"+each.split(\" \")[1] if len(each.split(\" \"))>1 else each for each in df.columns] \n",
    "# eski haline döndürüldü"
   ]
  },
  {
   "cell_type": "code",
   "execution_count": 83,
   "id": "662d67c6",
   "metadata": {},
   "outputs": [
    {
     "data": {
      "text/html": [
       "<div>\n",
       "<style scoped>\n",
       "    .dataframe tbody tr th:only-of-type {\n",
       "        vertical-align: middle;\n",
       "    }\n",
       "\n",
       "    .dataframe tbody tr th {\n",
       "        vertical-align: top;\n",
       "    }\n",
       "\n",
       "    .dataframe thead th {\n",
       "        text-align: right;\n",
       "    }\n",
       "</style>\n",
       "<table border=\"1\" class=\"dataframe\">\n",
       "  <thead>\n",
       "    <tr style=\"text-align: right;\">\n",
       "      <th></th>\n",
       "      <th>NAME</th>\n",
       "      <th>AGE</th>\n",
       "      <th>NOTE</th>\n",
       "      <th>BOOL</th>\n",
       "      <th>ORTALAMA</th>\n",
       "    </tr>\n",
       "  </thead>\n",
       "  <tbody>\n",
       "    <tr>\n",
       "      <th>0</th>\n",
       "      <td>Eren</td>\n",
       "      <td>25.0</td>\n",
       "      <td>123.0</td>\n",
       "      <td>False</td>\n",
       "      <td>ortalamanın altında</td>\n",
       "    </tr>\n",
       "    <tr>\n",
       "      <th>1</th>\n",
       "      <td>Tuğçe</td>\n",
       "      <td>26.0</td>\n",
       "      <td>456.0</td>\n",
       "      <td>True</td>\n",
       "      <td>ortalamanın altında</td>\n",
       "    </tr>\n",
       "    <tr>\n",
       "      <th>2</th>\n",
       "      <td>Damien</td>\n",
       "      <td>24.0</td>\n",
       "      <td>78.0</td>\n",
       "      <td>False</td>\n",
       "      <td>ortalamanın altında</td>\n",
       "    </tr>\n",
       "    <tr>\n",
       "      <th>3</th>\n",
       "      <td>Can</td>\n",
       "      <td>27.0</td>\n",
       "      <td>87654.0</td>\n",
       "      <td>True</td>\n",
       "      <td>ortalamanın üstünde</td>\n",
       "    </tr>\n",
       "    <tr>\n",
       "      <th>5</th>\n",
       "      <td>Berkay</td>\n",
       "      <td>26.0</td>\n",
       "      <td>89.0</td>\n",
       "      <td>True</td>\n",
       "      <td>ortalamanın altında</td>\n",
       "    </tr>\n",
       "  </tbody>\n",
       "</table>\n",
       "</div>"
      ],
      "text/plain": [
       "     NAME   AGE     NOTE   BOOL             ORTALAMA\n",
       "0    Eren  25.0    123.0  False  ortalamanın altında\n",
       "1   Tuğçe  26.0    456.0   True  ortalamanın altında\n",
       "2  Damien  24.0     78.0  False  ortalamanın altında\n",
       "3     Can  27.0  87654.0   True  ortalamanın üstünde\n",
       "5  Berkay  26.0     89.0   True  ortalamanın altında"
      ]
     },
     "execution_count": 83,
     "metadata": {},
     "output_type": "execute_result"
    }
   ],
   "source": [
    "df.drop([\"yeni_sutun\"],axis=1,inplace=True)\n",
    "df.drop([\"YENI_SÜTUN\"],axis=1,inplace=True)\n",
    "df"
   ]
  },
  {
   "cell_type": "code",
   "execution_count": 84,
   "id": "cb2293ed",
   "metadata": {},
   "outputs": [],
   "source": [
    "#sütunlar drop metodu ile atıldı"
   ]
  },
  {
   "cell_type": "code",
   "execution_count": 85,
   "id": "e1935b56",
   "metadata": {},
   "outputs": [
    {
     "data": {
      "text/html": [
       "<div>\n",
       "<style scoped>\n",
       "    .dataframe tbody tr th:only-of-type {\n",
       "        vertical-align: middle;\n",
       "    }\n",
       "\n",
       "    .dataframe tbody tr th {\n",
       "        vertical-align: top;\n",
       "    }\n",
       "\n",
       "    .dataframe thead th {\n",
       "        text-align: right;\n",
       "    }\n",
       "</style>\n",
       "<table border=\"1\" class=\"dataframe\">\n",
       "  <thead>\n",
       "    <tr style=\"text-align: right;\">\n",
       "      <th></th>\n",
       "      <th>NAME</th>\n",
       "      <th>AGE</th>\n",
       "      <th>NOTE</th>\n",
       "      <th>BOOL</th>\n",
       "      <th>ORTALAMA</th>\n",
       "    </tr>\n",
       "  </thead>\n",
       "  <tbody>\n",
       "    <tr>\n",
       "      <th>0</th>\n",
       "      <td>Eren</td>\n",
       "      <td>25.0</td>\n",
       "      <td>123.0</td>\n",
       "      <td>False</td>\n",
       "      <td>ortalamanın altında</td>\n",
       "    </tr>\n",
       "    <tr>\n",
       "      <th>1</th>\n",
       "      <td>Tuğçe</td>\n",
       "      <td>26.0</td>\n",
       "      <td>456.0</td>\n",
       "      <td>True</td>\n",
       "      <td>ortalamanın altında</td>\n",
       "    </tr>\n",
       "    <tr>\n",
       "      <th>2</th>\n",
       "      <td>Damien</td>\n",
       "      <td>24.0</td>\n",
       "      <td>78.0</td>\n",
       "      <td>False</td>\n",
       "      <td>ortalamanın altında</td>\n",
       "    </tr>\n",
       "    <tr>\n",
       "      <th>3</th>\n",
       "      <td>Can</td>\n",
       "      <td>27.0</td>\n",
       "      <td>87654.0</td>\n",
       "      <td>True</td>\n",
       "      <td>ortalamanın üstünde</td>\n",
       "    </tr>\n",
       "    <tr>\n",
       "      <th>5</th>\n",
       "      <td>Berkay</td>\n",
       "      <td>26.0</td>\n",
       "      <td>89.0</td>\n",
       "      <td>True</td>\n",
       "      <td>ortalamanın altında</td>\n",
       "    </tr>\n",
       "    <tr>\n",
       "      <th>0</th>\n",
       "      <td>Eren</td>\n",
       "      <td>25.0</td>\n",
       "      <td>123.0</td>\n",
       "      <td>False</td>\n",
       "      <td>ortalamanın altında</td>\n",
       "    </tr>\n",
       "    <tr>\n",
       "      <th>1</th>\n",
       "      <td>Tuğçe</td>\n",
       "      <td>26.0</td>\n",
       "      <td>456.0</td>\n",
       "      <td>True</td>\n",
       "      <td>ortalamanın altında</td>\n",
       "    </tr>\n",
       "    <tr>\n",
       "      <th>2</th>\n",
       "      <td>Damien</td>\n",
       "      <td>24.0</td>\n",
       "      <td>78.0</td>\n",
       "      <td>False</td>\n",
       "      <td>ortalamanın altında</td>\n",
       "    </tr>\n",
       "    <tr>\n",
       "      <th>3</th>\n",
       "      <td>Can</td>\n",
       "      <td>27.0</td>\n",
       "      <td>87654.0</td>\n",
       "      <td>True</td>\n",
       "      <td>ortalamanın üstünde</td>\n",
       "    </tr>\n",
       "    <tr>\n",
       "      <th>5</th>\n",
       "      <td>Berkay</td>\n",
       "      <td>26.0</td>\n",
       "      <td>89.0</td>\n",
       "      <td>True</td>\n",
       "      <td>ortalamanın altında</td>\n",
       "    </tr>\n",
       "  </tbody>\n",
       "</table>\n",
       "</div>"
      ],
      "text/plain": [
       "     NAME   AGE     NOTE   BOOL             ORTALAMA\n",
       "0    Eren  25.0    123.0  False  ortalamanın altında\n",
       "1   Tuğçe  26.0    456.0   True  ortalamanın altında\n",
       "2  Damien  24.0     78.0  False  ortalamanın altında\n",
       "3     Can  27.0  87654.0   True  ortalamanın üstünde\n",
       "5  Berkay  26.0     89.0   True  ortalamanın altında\n",
       "0    Eren  25.0    123.0  False  ortalamanın altında\n",
       "1   Tuğçe  26.0    456.0   True  ortalamanın altında\n",
       "2  Damien  24.0     78.0  False  ortalamanın altında\n",
       "3     Can  27.0  87654.0   True  ortalamanın üstünde\n",
       "5  Berkay  26.0     89.0   True  ortalamanın altında"
      ]
     },
     "execution_count": 85,
     "metadata": {},
     "output_type": "execute_result"
    }
   ],
   "source": [
    "#dikey birleştirme\n",
    "data1 = df.head()     \n",
    "data2 = df.tail()\n",
    "data_concat = pd.concat([data1,data2],axis=0) # axis 0 = satır birleştime\n",
    "data_concat"
   ]
  },
  {
   "cell_type": "code",
   "execution_count": 86,
   "id": "240a8479",
   "metadata": {},
   "outputs": [
    {
     "data": {
      "text/html": [
       "<div>\n",
       "<style scoped>\n",
       "    .dataframe tbody tr th:only-of-type {\n",
       "        vertical-align: middle;\n",
       "    }\n",
       "\n",
       "    .dataframe tbody tr th {\n",
       "        vertical-align: top;\n",
       "    }\n",
       "\n",
       "    .dataframe thead th {\n",
       "        text-align: right;\n",
       "    }\n",
       "</style>\n",
       "<table border=\"1\" class=\"dataframe\">\n",
       "  <thead>\n",
       "    <tr style=\"text-align: right;\">\n",
       "      <th></th>\n",
       "      <th>NAME</th>\n",
       "      <th>AGE</th>\n",
       "      <th>NOTE</th>\n",
       "      <th>BOOL</th>\n",
       "      <th>ORTALAMA</th>\n",
       "      <th>NAME</th>\n",
       "      <th>AGE</th>\n",
       "      <th>NOTE</th>\n",
       "      <th>BOOL</th>\n",
       "      <th>ORTALAMA</th>\n",
       "    </tr>\n",
       "  </thead>\n",
       "  <tbody>\n",
       "    <tr>\n",
       "      <th>0</th>\n",
       "      <td>Eren</td>\n",
       "      <td>25.0</td>\n",
       "      <td>123.0</td>\n",
       "      <td>False</td>\n",
       "      <td>ortalamanın altında</td>\n",
       "      <td>Eren</td>\n",
       "      <td>25.0</td>\n",
       "      <td>123.0</td>\n",
       "      <td>False</td>\n",
       "      <td>ortalamanın altında</td>\n",
       "    </tr>\n",
       "    <tr>\n",
       "      <th>1</th>\n",
       "      <td>Tuğçe</td>\n",
       "      <td>26.0</td>\n",
       "      <td>456.0</td>\n",
       "      <td>True</td>\n",
       "      <td>ortalamanın altında</td>\n",
       "      <td>Tuğçe</td>\n",
       "      <td>26.0</td>\n",
       "      <td>456.0</td>\n",
       "      <td>True</td>\n",
       "      <td>ortalamanın altında</td>\n",
       "    </tr>\n",
       "    <tr>\n",
       "      <th>2</th>\n",
       "      <td>Damien</td>\n",
       "      <td>24.0</td>\n",
       "      <td>78.0</td>\n",
       "      <td>False</td>\n",
       "      <td>ortalamanın altında</td>\n",
       "      <td>Damien</td>\n",
       "      <td>24.0</td>\n",
       "      <td>78.0</td>\n",
       "      <td>False</td>\n",
       "      <td>ortalamanın altında</td>\n",
       "    </tr>\n",
       "    <tr>\n",
       "      <th>3</th>\n",
       "      <td>Can</td>\n",
       "      <td>27.0</td>\n",
       "      <td>87654.0</td>\n",
       "      <td>True</td>\n",
       "      <td>ortalamanın üstünde</td>\n",
       "      <td>Can</td>\n",
       "      <td>27.0</td>\n",
       "      <td>87654.0</td>\n",
       "      <td>True</td>\n",
       "      <td>ortalamanın üstünde</td>\n",
       "    </tr>\n",
       "    <tr>\n",
       "      <th>5</th>\n",
       "      <td>Berkay</td>\n",
       "      <td>26.0</td>\n",
       "      <td>89.0</td>\n",
       "      <td>True</td>\n",
       "      <td>ortalamanın altında</td>\n",
       "      <td>Berkay</td>\n",
       "      <td>26.0</td>\n",
       "      <td>89.0</td>\n",
       "      <td>True</td>\n",
       "      <td>ortalamanın altında</td>\n",
       "    </tr>\n",
       "  </tbody>\n",
       "</table>\n",
       "</div>"
      ],
      "text/plain": [
       "     NAME   AGE     NOTE   BOOL             ORTALAMA    NAME   AGE     NOTE  \\\n",
       "0    Eren  25.0    123.0  False  ortalamanın altında    Eren  25.0    123.0   \n",
       "1   Tuğçe  26.0    456.0   True  ortalamanın altında   Tuğçe  26.0    456.0   \n",
       "2  Damien  24.0     78.0  False  ortalamanın altında  Damien  24.0     78.0   \n",
       "3     Can  27.0  87654.0   True  ortalamanın üstünde     Can  27.0  87654.0   \n",
       "5  Berkay  26.0     89.0   True  ortalamanın altında  Berkay  26.0     89.0   \n",
       "\n",
       "    BOOL             ORTALAMA  \n",
       "0  False  ortalamanın altında  \n",
       "1   True  ortalamanın altında  \n",
       "2  False  ortalamanın altında  \n",
       "3   True  ortalamanın üstünde  \n",
       "5   True  ortalamanın altında  "
      ]
     },
     "execution_count": 86,
     "metadata": {},
     "output_type": "execute_result"
    }
   ],
   "source": [
    "#yatay birleştirme\n",
    "data_contact2 = pd.concat([data1,data2],axis=1) #axis= 1  sütun birleştirdik\n",
    "data_contact2"
   ]
  },
  {
   "cell_type": "code",
   "execution_count": 87,
   "id": "abb596dd",
   "metadata": {},
   "outputs": [
    {
     "data": {
      "text/html": [
       "<div>\n",
       "<style scoped>\n",
       "    .dataframe tbody tr th:only-of-type {\n",
       "        vertical-align: middle;\n",
       "    }\n",
       "\n",
       "    .dataframe tbody tr th {\n",
       "        vertical-align: top;\n",
       "    }\n",
       "\n",
       "    .dataframe thead th {\n",
       "        text-align: right;\n",
       "    }\n",
       "</style>\n",
       "<table border=\"1\" class=\"dataframe\">\n",
       "  <thead>\n",
       "    <tr style=\"text-align: right;\">\n",
       "      <th></th>\n",
       "      <th>NAME</th>\n",
       "      <th>AGE</th>\n",
       "      <th>NOTE</th>\n",
       "      <th>BOOL</th>\n",
       "      <th>ORTALAMA</th>\n",
       "      <th>kucuk_yas</th>\n",
       "    </tr>\n",
       "  </thead>\n",
       "  <tbody>\n",
       "    <tr>\n",
       "      <th>0</th>\n",
       "      <td>Eren</td>\n",
       "      <td>25.0</td>\n",
       "      <td>123.0</td>\n",
       "      <td>False</td>\n",
       "      <td>ortalamanın altında</td>\n",
       "      <td>12.5</td>\n",
       "    </tr>\n",
       "    <tr>\n",
       "      <th>1</th>\n",
       "      <td>Tuğçe</td>\n",
       "      <td>26.0</td>\n",
       "      <td>456.0</td>\n",
       "      <td>True</td>\n",
       "      <td>ortalamanın altında</td>\n",
       "      <td>13.0</td>\n",
       "    </tr>\n",
       "    <tr>\n",
       "      <th>2</th>\n",
       "      <td>Damien</td>\n",
       "      <td>24.0</td>\n",
       "      <td>78.0</td>\n",
       "      <td>False</td>\n",
       "      <td>ortalamanın altında</td>\n",
       "      <td>12.0</td>\n",
       "    </tr>\n",
       "    <tr>\n",
       "      <th>3</th>\n",
       "      <td>Can</td>\n",
       "      <td>27.0</td>\n",
       "      <td>87654.0</td>\n",
       "      <td>True</td>\n",
       "      <td>ortalamanın üstünde</td>\n",
       "      <td>13.5</td>\n",
       "    </tr>\n",
       "    <tr>\n",
       "      <th>5</th>\n",
       "      <td>Berkay</td>\n",
       "      <td>26.0</td>\n",
       "      <td>89.0</td>\n",
       "      <td>True</td>\n",
       "      <td>ortalamanın altında</td>\n",
       "      <td>13.0</td>\n",
       "    </tr>\n",
       "  </tbody>\n",
       "</table>\n",
       "</div>"
      ],
      "text/plain": [
       "     NAME   AGE     NOTE   BOOL             ORTALAMA  kucuk_yas\n",
       "0    Eren  25.0    123.0  False  ortalamanın altında       12.5\n",
       "1   Tuğçe  26.0    456.0   True  ortalamanın altında       13.0\n",
       "2  Damien  24.0     78.0  False  ortalamanın altında       12.0\n",
       "3     Can  27.0  87654.0   True  ortalamanın üstünde       13.5\n",
       "5  Berkay  26.0     89.0   True  ortalamanın altında       13.0"
      ]
     },
     "execution_count": 87,
     "metadata": {},
     "output_type": "execute_result"
    }
   ],
   "source": [
    "df[\"kucuk_yas\"] = [each/2 for each in df.AGE]\n",
    "df"
   ]
  },
  {
   "cell_type": "code",
   "execution_count": 88,
   "id": "992186a6",
   "metadata": {},
   "outputs": [
    {
     "data": {
      "text/html": [
       "<div>\n",
       "<style scoped>\n",
       "    .dataframe tbody tr th:only-of-type {\n",
       "        vertical-align: middle;\n",
       "    }\n",
       "\n",
       "    .dataframe tbody tr th {\n",
       "        vertical-align: top;\n",
       "    }\n",
       "\n",
       "    .dataframe thead th {\n",
       "        text-align: right;\n",
       "    }\n",
       "</style>\n",
       "<table border=\"1\" class=\"dataframe\">\n",
       "  <thead>\n",
       "    <tr style=\"text-align: right;\">\n",
       "      <th></th>\n",
       "      <th>NAME</th>\n",
       "      <th>AGE</th>\n",
       "      <th>NOTE</th>\n",
       "      <th>BOOL</th>\n",
       "      <th>ORTALAMA</th>\n",
       "      <th>kucuk_yas</th>\n",
       "      <th>apply_metodu</th>\n",
       "    </tr>\n",
       "  </thead>\n",
       "  <tbody>\n",
       "    <tr>\n",
       "      <th>0</th>\n",
       "      <td>Eren</td>\n",
       "      <td>25.0</td>\n",
       "      <td>123.0</td>\n",
       "      <td>False</td>\n",
       "      <td>ortalamanın altında</td>\n",
       "      <td>12.5</td>\n",
       "      <td>12.5</td>\n",
       "    </tr>\n",
       "    <tr>\n",
       "      <th>1</th>\n",
       "      <td>Tuğçe</td>\n",
       "      <td>26.0</td>\n",
       "      <td>456.0</td>\n",
       "      <td>True</td>\n",
       "      <td>ortalamanın altında</td>\n",
       "      <td>13.0</td>\n",
       "      <td>13.0</td>\n",
       "    </tr>\n",
       "    <tr>\n",
       "      <th>2</th>\n",
       "      <td>Damien</td>\n",
       "      <td>24.0</td>\n",
       "      <td>78.0</td>\n",
       "      <td>False</td>\n",
       "      <td>ortalamanın altında</td>\n",
       "      <td>12.0</td>\n",
       "      <td>12.0</td>\n",
       "    </tr>\n",
       "    <tr>\n",
       "      <th>3</th>\n",
       "      <td>Can</td>\n",
       "      <td>27.0</td>\n",
       "      <td>87654.0</td>\n",
       "      <td>True</td>\n",
       "      <td>ortalamanın üstünde</td>\n",
       "      <td>13.5</td>\n",
       "      <td>13.5</td>\n",
       "    </tr>\n",
       "    <tr>\n",
       "      <th>5</th>\n",
       "      <td>Berkay</td>\n",
       "      <td>26.0</td>\n",
       "      <td>89.0</td>\n",
       "      <td>True</td>\n",
       "      <td>ortalamanın altında</td>\n",
       "      <td>13.0</td>\n",
       "      <td>13.0</td>\n",
       "    </tr>\n",
       "  </tbody>\n",
       "</table>\n",
       "</div>"
      ],
      "text/plain": [
       "     NAME   AGE     NOTE   BOOL             ORTALAMA  kucuk_yas  apply_metodu\n",
       "0    Eren  25.0    123.0  False  ortalamanın altında       12.5          12.5\n",
       "1   Tuğçe  26.0    456.0   True  ortalamanın altında       13.0          13.0\n",
       "2  Damien  24.0     78.0  False  ortalamanın altında       12.0          12.0\n",
       "3     Can  27.0  87654.0   True  ortalamanın üstünde       13.5          13.5\n",
       "5  Berkay  26.0     89.0   True  ortalamanın altında       13.0          13.0"
      ]
     },
     "execution_count": 88,
     "metadata": {},
     "output_type": "execute_result"
    }
   ],
   "source": [
    "def mlt(yas):\n",
    "    return yas/2\n",
    "df[\"apply_metodu\"] = df.AGE.apply(mlt)\n",
    "df"
   ]
  },
  {
   "cell_type": "code",
   "execution_count": 89,
   "id": "fded6909",
   "metadata": {},
   "outputs": [],
   "source": [
    "import matplotlib.pyplot as plt "
   ]
  },
  {
   "cell_type": "code",
   "execution_count": 90,
   "id": "ebb3af58",
   "metadata": {},
   "outputs": [
    {
     "data": {
      "image/png": "[encoded data removed]",
      "text/plain": [
       "<Figure size 432x288 with 1 Axes>"
      ]
     },
     "metadata": {
      "needs_background": "light"
     },
     "output_type": "display_data"
    }
   ],
   "source": [
    "# Data\n",
    "x = np.arange(0, 100, 1)\n",
    "y = np.sin(x)\n",
    "\n",
    "# Graph creation\n",
    "plt.plot(x, y)\n",
    "\n",
    "# Determine chart properties\n",
    "plt.title(\"Sinüs Grafiği\")\n",
    "plt.xlabel(\"X Ekseni\")\n",
    "plt.ylabel(\"Y Ekseni\")\n",
    "\n",
    "# Show graphics\n",
    "plt.show()"
   ]
  },
  {
   "cell_type": "code",
   "execution_count": 91,
   "id": "f927b30e",
   "metadata": {},
   "outputs": [
    {
     "data": {
      "image/png": "[encoded data removed]",
      "text/plain": [
       "<Figure size 432x288 with 1 Axes>"
      ]
     },
     "metadata": {
      "needs_background": "light"
     },
     "output_type": "display_data"
    }
   ],
   "source": [
    "# Data\n",
    "x = np.random.rand(50)\n",
    "y = np.random.rand(50)\n",
    "colors = np.random.rand(50)\n",
    "sizes = np.random.randint(50, 150, 50)\n",
    "\n",
    "# Graph creation\n",
    "plt.scatter(x, y, c=colors, s=sizes)\n",
    "\n",
    "# Determine chart properties\n",
    "plt.title(\"Point Chart\")\n",
    "plt.xlabel(\"X-axis\")\n",
    "plt.ylabel(\"Y-axis\")\n",
    "\n",
    "# Show graphics\n",
    "plt.show()"
   ]
  },
  {
   "cell_type": "code",
   "execution_count": 92,
   "id": "e0149d15",
   "metadata": {},
   "outputs": [
    {
     "data": {
      "image/png": "[encoded data removed]",
      "text/plain": [
       "<Figure size 432x288 with 1 Axes>"
      ]
     },
     "metadata": {
      "needs_background": "light"
     },
     "output_type": "display_data"
    }
   ],
   "source": [
    "# Data\n",
    "data = np.random.randn(1000)\n",
    "\n",
    "# Graph creation\n",
    "plt.hist(data, bins=30)\n",
    "\n",
    "# Determine chart properties\n",
    "plt.title(\"Histogram\")\n",
    "plt.xlabel(\"Values\")\n",
    "plt.ylabel(\"Frequency\")\n",
    "\n",
    "# Show graphics\n",
    "plt.show()\n"
   ]
  },
  {
   "cell_type": "code",
   "execution_count": 93,
   "id": "01ffddd9",
   "metadata": {},
   "outputs": [
    {
     "data": {
      "image/png": "[encoded data removed]",
      "text/plain": [
       "<Figure size 432x288 with 1 Axes>"
      ]
     },
     "metadata": {
      "needs_background": "light"
     },
     "output_type": "display_data"
    }
   ],
   "source": [
    "# Data\n",
    "x = ['Antalya', 'Ankara', 'Denizli', 'İstanbul', 'Eskişehir']\n",
    "y = np.array([5,8,2,10,3])\n",
    "\n",
    "# Graph creation\n",
    "plt.bar(x, y)\n",
    "\n",
    "# Determine chart properties\n",
    "plt.title(\"Sütun Grafiği\")\n",
    "plt.xlabel(\"Şehirler\")\n",
    "plt.ylabel(\"Popülasyon yoğunluğu\")\n",
    "\n",
    "# Show graphics\n",
    "plt.show()"
   ]
  },
  {
   "cell_type": "code",
   "execution_count": 94,
   "id": "4c0f5a57",
   "metadata": {},
   "outputs": [
    {
     "data": {
      "image/png": "[encoded data removed]",
      "text/plain": [
       "<Figure size 432x288 with 1 Axes>"
      ]
     },
     "metadata": {},
     "output_type": "display_data"
    }
   ],
   "source": [
    "# Data\n",
    "sizes = [100, 70, 50, 25, 12.5, 7.75]\n",
    "\n",
    "# Graph creation\n",
    "plt.pie(sizes)\n",
    "\n",
    "# Determine chart properties\n",
    "plt.title(\"Pie Chart\")\n",
    "\n",
    "# Show graphics\n",
    "plt.show()"
   ]
  },
  {
   "cell_type": "code",
   "execution_count": 95,
   "id": "8fa23b49",
   "metadata": {},
   "outputs": [
    {
     "data": {
      "image/png": "[encoded data removed]",
      "text/plain": [
       "<Figure size 432x288 with 1 Axes>"
      ]
     },
     "metadata": {
      "needs_background": "light"
     },
     "output_type": "display_data"
    }
   ],
   "source": [
    "from mpl_toolkits.mplot3d import Axes3D\n",
    "\n",
    "# Data\n",
    "x = np.arange(-5, 10, 0.25)\n",
    "y = np.arange(-10, 5, 0.25)\n",
    "x, y = np.meshgrid(x, y)\n",
    "r = np.sqrt(x**2 + y**2)\n",
    "z = np.cos(r)\n",
    "\n",
    "# 3D graphics creation\n",
    "fig = plt.figure()\n",
    "ax = fig.add_subplot(111, projection='3d')\n",
    "\n",
    "# plotting graphics\n",
    "ax.plot_surface(x, y, z)\n",
    "\n",
    "# Determine chart properties\n",
    "ax.set_title(\"3D Graphics\")\n",
    "ax.set_xlabel(\"X axis\")\n",
    "ax.set_ylabel(\"Y axis\")\n",
    "ax.set_zlabel(\"Z axis\")\n",
    "\n",
    "# Show\n",
    "plt.show()\n"
   ]
  }
 ],
 "metadata": {
  "kernelspec": {
   "display_name": "Python 3 (ipykernel)",
   "language": "python",
   "name": "python3"
  },
  "language_info": {
   "codemirror_mode": {
    "name": "ipython",
    "version": 3
   },
   "file_extension": ".py",
   "mimetype": "text/x-python",
   "name": "python",
   "nbconvert_exporter": "python",
   "pygments_lexer": "ipython3",
   "version": "3.9.12"
  }
 },
 "nbformat": 4,
 "nbformat_minor": 5
}
